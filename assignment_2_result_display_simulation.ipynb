{
  "nbformat": 4,
  "nbformat_minor": 0,
  "metadata": {
    "colab": {
      "provenance": [],
      "authorship_tag": "ABX9TyMDd2+y7C/T1Cxf2WztXCTt",
      "include_colab_link": true
    },
    "kernelspec": {
      "name": "python3",
      "display_name": "Python 3"
    },
    "language_info": {
      "name": "python"
    }
  },
  "cells": [
    {
      "cell_type": "markdown",
      "metadata": {
        "id": "view-in-github",
        "colab_type": "text"
      },
      "source": [
        "<a href=\"https://colab.research.google.com/github/hilmanrozaini/UKM_SDA/blob/main/assignment_2_result_display_simulation.ipynb\" target=\"_parent\"><img src=\"https://colab.research.google.com/assets/colab-badge.svg\" alt=\"Open In Colab\"/></a>"
      ]
    },
    {
      "cell_type": "code",
      "execution_count": null,
      "metadata": {
        "id": "QIkaLX0Y9Lwu"
      },
      "outputs": [],
      "source": [
        "import numpy as np\n",
        "import pandas as pd"
      ]
    },
    {
      "cell_type": "code",
      "source": [
        "import sys\n",
        "students = {}\n",
        "\n",
        "polling_active = True\n",
        "\n",
        "while polling_active:\n",
        "    name = input(\"please enter your name: \")\n",
        "    score = int(input(\"please enter your score: \"))\n",
        "\n",
        "    students[name] = score\n",
        "\n",
        "    repeat = input(\"would you like to add another student?\" \"(yes/no)\")\n",
        "    if repeat == 'no'or repeat == 'No':\n",
        "        polling_active = False\n",
        "\n",
        "print (\"-------RESULT-------\")\n",
        "#We will use totalScore for keeping all students score summation.\n",
        "#Initaly total score is 0.\n",
        "totalScore = 0\n",
        "#For getting lowest score student name, we need lowest score first.\n",
        "#Initaly we don't know the lowest score. So we are assuming lowest score is maximum Int value\n",
        "lowestScore = sys.maxsize\n",
        "#We also need to store student name. We can use lowestScoreStudentName variable for storing student name with lowest score\n",
        "#Initaly we don't know the student name. So we initialize it as an empty student list.\n",
        "lowestScoreStudentName = []\n",
        "#For getting maximum score student name, we need maximum score first.\n",
        "#Initaly we don't know the maximum score. So we are assuming lowest score is minimum Int value\n",
        "maximumScore = -sys.maxsize - 1\n",
        "#We also need to store student name. We can use maximumScoreStudentName variable for storing student name with maximum score\n",
        "#Initaly we don't know the student name. So we initialize it as an empty student list.\n",
        "maximumScoreStudentName = []\n",
        "\n",
        "for name, score in students.items():\n",
        "    totalScore = totalScore + score\n",
        "    print(name, \"your score is: \", score )\n",
        "    if lowestScore > score:\n",
        "        lowestScore = score\n",
        "        #Making student list empty, since score is lower than before\n",
        "        lowestScoreStudentName = []\n",
        "        lowestScoreStudentName.append(name)\n",
        "    elif lowestScore == score:\n",
        "        #keeping all students in the list who gets lowest score\n",
        "        lowestScoreStudentName.append(name)\n",
        "\n",
        "    if maximumScore < score:\n",
        "        maximumScore = score\n",
        "        #Making student list empty, since score is higher than before\n",
        "        maximumScoreStudentName = []\n",
        "        maximumScoreStudentName.append(name)\n",
        "    elif maximumScore == score:\n",
        "        #keeping all students in the list who gets highest score\n",
        "        maximumScoreStudentName.append(name)\n",
        "\n",
        "total_sum = sum(list(students.values()))\n",
        "average_sum = totalScore/len(students)\n",
        "\n",
        "print(\"Average class score : \" + str(average_sum))\n",
        "print(\"Student with lowest score: \" + str(lowestScoreStudentName))\n",
        "print(\"Student with highest score: \" + str(maximumScoreStudentName))"
      ],
      "metadata": {
        "colab": {
          "base_uri": "https://localhost:8080/"
        },
        "id": "DKirMkzlGsF2",
        "outputId": "9a2f2a22-b01a-4a28-aecd-b1033122526d"
      },
      "execution_count": null,
      "outputs": [
        {
          "output_type": "stream",
          "name": "stdout",
          "text": [
            "please enter your name: ali \n",
            "please enter your score: 68\n",
            "would you like to add another student?(yes/no)yes\n",
            "please enter your name: harry\n",
            "please enter your score: 55\n",
            "would you like to add another student?(yes/no)yes\n",
            "please enter your name: chong\n",
            "please enter your score: 88\n",
            "would you like to add another student?(yes/no)yes\n",
            "please enter your name: raju\n",
            "please enter your score: 58\n",
            "would you like to add another student?(yes/no)no\n",
            "-------RESULT-------\n",
            "ali  your score is:  68\n",
            "harry your score is:  55\n",
            "chong your score is:  88\n",
            "raju your score is:  58\n",
            "Average class score : 67.25\n",
            "Student with lowest score: ['harry']\n",
            "Student with highest score: ['chong']\n"
          ]
        }
      ]
    }
  ]
}