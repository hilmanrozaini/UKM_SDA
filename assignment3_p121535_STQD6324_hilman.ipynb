{
  "nbformat": 4,
  "nbformat_minor": 0,
  "metadata": {
    "colab": {
      "provenance": [],
      "mount_file_id": "19gCDE988-Gpr-6UeDcnzB6dGRf74tKlz",
      "authorship_tag": "ABX9TyM8+WWb1xMs+crFW7zsmArW",
      "include_colab_link": true
    },
    "kernelspec": {
      "name": "python3",
      "display_name": "Python 3"
    },
    "language_info": {
      "name": "python"
    }
  },
  "cells": [
    {
      "cell_type": "markdown",
      "metadata": {
        "id": "view-in-github",
        "colab_type": "text"
      },
      "source": [
        "<a href=\"https://colab.research.google.com/github/hilmanrozaini/UKM_SDA/blob/main/assignment3_p121535_STQD6324_hilman.ipynb\" target=\"_parent\"><img src=\"https://colab.research.google.com/assets/colab-badge.svg\" alt=\"Open In Colab\"/></a>"
      ]
    },
    {
      "cell_type": "code",
      "source": [
        "from google.colab import drive\n",
        "drive.mount('/content/drive')"
      ],
      "metadata": {
        "id": "Pwr30Cd1FWqm",
        "colab": {
          "base_uri": "https://localhost:8080/"
        },
        "outputId": "11710bde-3677-4c7e-d7c8-99f581a249f2"
      },
      "execution_count": null,
      "outputs": [
        {
          "output_type": "stream",
          "name": "stdout",
          "text": [
            "Drive already mounted at /content/drive; to attempt to forcibly remount, call drive.mount(\"/content/drive\", force_remount=True).\n"
          ]
        }
      ]
    },
    {
      "cell_type": "code",
      "source": [
        "#!pip install pyspark   # this is to install pyspark\n",
        "from pyspark.sql import SparkSession\n",
        "\n",
        "spark = SparkSession.builder\\\n",
        "            .master(\"local\")\\\n",
        "            .appName(\"Colab\")\\\n",
        "            .config(\"spark.ui.port\", \"4050\")\\\n",
        "            .getOrCreate()"
      ],
      "metadata": {
        "id": "b9e54kYtFWip"
      },
      "execution_count": null,
      "outputs": []
    },
    {
      "cell_type": "code",
      "execution_count": null,
      "metadata": {
        "id": "Lv6BOGKKE7U0"
      },
      "outputs": [],
      "source": [
        "from pyspark.sql import SparkSession\n",
        "from pyspark.ml.recommendation import ALS\n",
        "from pyspark.sql import Row\n",
        "from pyspark.sql.functions import avg, min, count, col, from_unixtime\n",
        "#from pyspark.sql.functions import avg, min, count, col\n"
      ]
    },
    {
      "cell_type": "markdown",
      "source": [
        "## highest and lowest average movie rating"
      ],
      "metadata": {
        "id": "njaOR_9NRRIX"
      }
    },
    {
      "cell_type": "code",
      "source": [
        "from pyspark.sql import SparkSession\n",
        "from pyspark.ml.recommendation import ALS\n",
        "from pyspark.sql.functions import col, avg, count\n",
        "from pyspark.sql import Row\n",
        "\n",
        "# Load up movieID -> movie name dictionary\n",
        "def loadMovieNames():\n",
        "    movieNames = {}\n",
        "    with open(\"/content/drive/MyDrive/STQD6324_Data_Management/project_3/u.item.txt\", encoding=\"ISO-8859-1\") as f:\n",
        "        for line in f:\n",
        "            fields = line.split('|')\n",
        "            movieNames[int(fields[0])] = fields[1]\n",
        "    return movieNames\n",
        "\n",
        "# Convert u.data lines into (UserID, movieID, rating, timestamp) rows\n",
        "def parseInput(line):\n",
        "    fields = line.value.split()\n",
        "    userId = int(fields[0])\n",
        "    movieId = int(fields[1])\n",
        "    rating = float(fields[2])\n",
        "    timestamp = int(fields[3])\n",
        "    return Row(userID=userId, movieID=movieId, rating=rating, timestamp=timestamp)\n",
        "\n",
        "if __name__ == \"__main__\":\n",
        "    # Create a SparkSession\n",
        "    spark = SparkSession.builder.appName(\"MovieRatings\").getOrCreate()\n",
        "\n",
        "    # Load up our movieID -> name directory\n",
        "    movieNames = loadMovieNames()\n",
        "\n",
        "    # Get the raw data\n",
        "    lines = spark.read.text(\"/content/drive/MyDrive/STQD6324_Data_Management/project_3/u.data.txt\").rdd\n",
        "\n",
        "    # Convert it to an RDD of Row objects with (userID, movieID, rating, timestamp)\n",
        "    ratingsRDD = lines.map(parseInput)\n",
        "\n",
        "    # Convert to a DataFrame and cache it\n",
        "    ratings = spark.createDataFrame(ratingsRDD).cache()\n",
        "\n",
        "    # Create an ALS collaborative filtering model from the complete data set\n",
        "    als = ALS(maxIter=5, regParam=0.01, userCol=\"userID\", itemCol=\"movieID\", ratingCol=\"rating\")\n",
        "    model = als.fit(ratings)\n",
        "\n",
        "    # Find movies rated more than 100 times\n",
        "    ratingCounts = ratings.groupBy(\"movieID\").count().filter(col(\"count\") > 100)\n",
        "\n",
        "    # Calculate average ratings and count for each movie\n",
        "    averageRatings = ratings.groupBy(\"movieID\").agg(avg(\"rating\").alias(\"avg_rating\"), count(\"rating\").alias(\"rating_count\"))\n",
        "\n",
        "    # Join with rating counts and filter movies with more than 100 ratings\n",
        "    moviesWithRatings = averageRatings.join(ratingCounts, \"movieID\").filter(col(\"count\") > 100)\n",
        "\n",
        "    # Sort movies by average rating in descending order\n",
        "    bestMovies = moviesWithRatings.orderBy(col(\"avg_rating\").desc()).limit(25)\n",
        "\n",
        "    # Add movie titles and movie IDs to bestMovies DataFrame\n",
        "    bestMovies = bestMovies.join(spark.createDataFrame(list(movieNames.items()), [\"movieID\", \"title\"]), \"movieID\")\n",
        "\n",
        "\n",
        "    # Sort movies by average rating in ascending order\n",
        "    worstMovies = moviesWithRatings.orderBy(col(\"avg_rating\").asc()).limit(25)\n",
        "\n",
        "    # Add movie titles and movie IDs to sortedMovies DataFrame\n",
        "    worstMovies = worstMovies.join(spark.createDataFrame(list(movieNames.items()), [\"movieID\", \"title\"]), \"movieID\")\n",
        "\n",
        "    # Display the top 25 movies with the best average rating\n",
        "    print(\"Top 25 Movies with the best average rating:\")\n",
        "    bestMovies.select(\"movieID\", \"title\", \"rating_count\", \"avg_rating\").show(truncate=False)\n",
        "\n",
        "    # Display the top 25 movies with the worst average rating\n",
        "    print(\"Top 25 Movies with the worst average rating:\")\n",
        "    worstMovies.select(\"movieID\", \"title\", \"rating_count\", \"avg_rating\").show(truncate=False)\n",
        "\n",
        "\n",
        "\n",
        "\n",
        "    # Stop the SparkSession\n",
        "    spark.stop()\n"
      ],
      "metadata": {
        "colab": {
          "base_uri": "https://localhost:8080/"
        },
        "id": "aaV-JTQ9LMiH",
        "outputId": "f557565e-3eff-4093-e73c-dc5be85b0bbc"
      },
      "execution_count": null,
      "outputs": [
        {
          "output_type": "stream",
          "name": "stdout",
          "text": [
            "Top 25 Movies with the best average rating:\n",
            "+-------+---------------------------------------------------------------------------+------------+------------------+\n",
            "|movieID|title                                                                      |rating_count|avg_rating        |\n",
            "+-------+---------------------------------------------------------------------------+------------+------------------+\n",
            "|12     |Usual Suspects, The (1995)                                                 |267         |4.385767790262173 |\n",
            "|50     |Star Wars (1977)                                                           |583         |4.3584905660377355|\n",
            "|64     |Shawshank Redemption, The (1994)                                           |283         |4.445229681978798 |\n",
            "|98     |Silence of the Lambs, The (1991)                                           |390         |4.28974358974359  |\n",
            "|127    |Godfather, The (1972)                                                      |413         |4.283292978208232 |\n",
            "|134    |Citizen Kane (1941)                                                        |198         |4.292929292929293 |\n",
            "|169    |Wrong Trousers, The (1993)                                                 |118         |4.466101694915254 |\n",
            "|172    |Empire Strikes Back, The (1980)                                            |367         |4.204359673024523 |\n",
            "|174    |Raiders of the Lost Ark (1981)                                             |420         |4.252380952380952 |\n",
            "|178    |12 Angry Men (1957)                                                        |125         |4.344             |\n",
            "|272    |Good Will Hunting (1997)                                                   |198         |4.262626262626263 |\n",
            "|285    |Secrets & Lies (1996)                                                      |162         |4.265432098765432 |\n",
            "|313    |Titanic (1997)                                                             |350         |4.2457142857142856|\n",
            "|318    |Schindler's List (1993)                                                    |298         |4.466442953020135 |\n",
            "|357    |One Flew Over the Cuckoo's Nest (1975)                                     |264         |4.291666666666667 |\n",
            "|408    |Close Shave, A (1995)                                                      |112         |4.491071428571429 |\n",
            "|427    |To Kill a Mockingbird (1962)                                               |219         |4.292237442922374 |\n",
            "|474    |Dr. Strangelove or: How I Learned to Stop Worrying and Love the Bomb (1963)|194         |4.252577319587629 |\n",
            "|479    |Vertigo (1958)                                                             |179         |4.251396648044692 |\n",
            "|480    |North by Northwest (1959)                                                  |179         |4.284916201117318 |\n",
            "+-------+---------------------------------------------------------------------------+------------+------------------+\n",
            "only showing top 20 rows\n",
            "\n",
            "Top 25 Movies with the worst average rating:\n",
            "+-------+--------------------------------------+------------+------------------+\n",
            "|movieID|title                                 |rating_count|avg_rating        |\n",
            "+-------+--------------------------------------+------------+------------------+\n",
            "|29     |Batman Forever (1995)                 |114         |2.6666666666666665|\n",
            "|38     |Net, The (1995)                       |120         |3.0083333333333333|\n",
            "|53     |Natural Born Killers (1994)           |128         |2.953125          |\n",
            "|122    |Cable Guy, The (1996)                 |106         |2.339622641509434 |\n",
            "|225    |101 Dalmatians (1996)                 |109         |2.908256880733945 |\n",
            "|231    |Batman Returns (1992)                 |142         |2.683098591549296 |\n",
            "|235    |Mars Attacks! (1996)                  |217         |2.847926267281106 |\n",
            "|240    |Beavis and Butt-head Do America (1996)|156         |2.7884615384615383|\n",
            "|243    |Jungle2Jungle (1997)                  |132         |2.4393939393939394|\n",
            "|252    |Lost World: Jurassic Park, The (1997) |158         |2.9430379746835444|\n",
            "|259    |George of the Jungle (1997)           |162         |2.685185185185185 |\n",
            "|260    |Event Horizon (1997)                  |127         |2.574803149606299 |\n",
            "|264    |Mimic (1997)                          |101         |2.742574257425743 |\n",
            "|289    |Evita (1996)                          |259         |2.9806949806949805|\n",
            "|323    |Dante's Peak (1997)                   |240         |2.933333333333333 |\n",
            "|325    |Crash (1996)                          |128         |2.546875          |\n",
            "|358    |Spawn (1997)                          |143         |2.6153846153846154|\n",
            "|411    |Nutty Professor, The (1996)           |163         |2.914110429447853 |\n",
            "|476    |First Wives Club, The (1996)          |160         |3.01875           |\n",
            "|546    |Broken Arrow (1996)                   |254         |3.031496062992126 |\n",
            "+-------+--------------------------------------+------------+------------------+\n",
            "only showing top 20 rows\n",
            "\n"
          ]
        }
      ]
    },
    {
      "cell_type": "markdown",
      "source": [
        "## highest and lowest average movie rating with timestamp"
      ],
      "metadata": {
        "id": "2_PamsybBK-9"
      }
    },
    {
      "cell_type": "code",
      "source": [
        "from pyspark.sql import SparkSession\n",
        "from pyspark.ml.recommendation import ALS\n",
        "from pyspark.sql.functions import col, avg, count\n",
        "from pyspark.sql import Row\n",
        "\n",
        "# Load up movieID -> movie name dictionary\n",
        "def loadMovieNames():\n",
        "    movieNames = {}\n",
        "    with open(\"/content/drive/MyDrive/STQD6324_Data_Management/project_3/u.item.txt\", encoding=\"ISO-8859-1\") as f:\n",
        "        for line in f:\n",
        "            fields = line.split('|')\n",
        "            movieNames[int(fields[0])] = fields[1]\n",
        "    return movieNames\n",
        "\n",
        "# Convert u.data lines into (UserID, movieID, rating, timestamp) rows\n",
        "def parseInput(line):\n",
        "    fields = line.value.split()\n",
        "    userId = int(fields[0])\n",
        "    movieId = int(fields[1])\n",
        "    rating = float(fields[2])\n",
        "    timestamp = int(fields[3])\n",
        "    return Row(userID=userId, movieID=movieId, rating=rating, timestamp=timestamp)\n",
        "\n",
        "if __name__ == \"__main__\":\n",
        "    # Create a SparkSession\n",
        "    spark = SparkSession.builder.appName(\"MovieRatings\").getOrCreate()\n",
        "\n",
        "    # Load up our movieID -> name directory\n",
        "    movieNames = loadMovieNames()\n",
        "\n",
        "    # Get the raw data\n",
        "    lines = spark.read.text(\"/content/drive/MyDrive/STQD6324_Data_Management/project_3/u.data.txt\").rdd\n",
        "\n",
        "    # Convert it to an RDD of Row objects with (userID, movieID, rating, timestamp)\n",
        "    ratingsRDD = lines.map(parseInput)\n",
        "\n",
        "    # Convert to a DataFrame and cache it\n",
        "    ratings = spark.createDataFrame(ratingsRDD).cache()\n",
        "\n",
        "    # Create an ALS collaborative filtering model from the complete data set\n",
        "    als = ALS(maxIter=5, regParam=0.01, userCol=\"userID\", itemCol=\"movieID\", ratingCol=\"rating\")\n",
        "    model = als.fit(ratings)\n",
        "\n",
        "    # Find movies rated more than 100 times\n",
        "    ratingCounts = ratings.groupBy(\"movieID\").count().filter(col(\"count\") > 100)\n",
        "\n",
        "\n",
        "    # Calculate average ratings, minimum timestamp, and count for each movie\n",
        "    # min timestamp should give the earliest (oldest) timestamp of movies\n",
        "    averageRatings = ratings.groupBy(\"movieID\").agg(avg(\"rating\").alias(\"avg_rating\"), min(\"timestamp\").alias(\"timestamp\"), count(\"rating\").alias(\"rating_count\"))\n",
        "\n",
        "\n",
        "    # Join with rating counts and filter movies with more than 100 ratings\n",
        "    moviesWithRatings = averageRatings.join(ratingCounts, \"movieID\").filter(col(\"count\") > 100)\n",
        "\n",
        "    # Sort movies by average rating in descending order and oldest timestamp\n",
        "    bestMovies = moviesWithRatings.orderBy(col(\"avg_rating\").desc(), col(\"timestamp\").asc()).limit(25)\n",
        "\n",
        "    # Add movie titles and movie IDs to bestMovies DataFrame\n",
        "    bestMovies = bestMovies.join(spark.createDataFrame(list(movieNames.items()), [\"movieID\", \"title\"]), \"movieID\")\n",
        "\n",
        "    # Sort movies by average rating in ascending order and oldest timestamp\n",
        "    worstMovies = moviesWithRatings.orderBy(col(\"avg_rating\").asc(), col(\"timestamp\").asc()).limit(25)\n",
        "\n",
        "    # Add movie titles and movie IDs to worstMovies DataFrame\n",
        "    worstMovies = worstMovies.join(spark.createDataFrame(list(movieNames.items()), [\"movieID\", \"title\"]), \"movieID\")\n",
        "\n",
        "    # Display the top 25 movies with the best average rating\n",
        "    print(\"Top 25 Movies with the best average rating:\")\n",
        "    bestMovies.select(\"movieID\", \"title\", \"rating_count\", \"avg_rating\", \"timestamp\").show(truncate=False)\n",
        "\n",
        "    # Display the top 25 movies with the worst average rating\n",
        "    print(\"Top 25 Movies with the worst average rating:\")\n",
        "    worstMovies.select(\"movieID\", \"title\", \"rating_count\", \"avg_rating\", \"timestamp\").show(truncate=False)\n",
        "\n",
        "    # Stop the SparkSession\n",
        "    spark.stop()\n",
        "\n"
      ],
      "metadata": {
        "colab": {
          "base_uri": "https://localhost:8080/"
        },
        "id": "AyiL9BsLNw-W",
        "outputId": "d6607b35-1328-4f05-a2ae-8146a3126fea"
      },
      "execution_count": null,
      "outputs": [
        {
          "output_type": "stream",
          "name": "stdout",
          "text": [
            "Top 25 Movies with the best average rating:\n",
            "+-------+---------------------------------------------------------------------------+------------+------------------+---------+\n",
            "|movieID|title                                                                      |rating_count|avg_rating        |timestamp|\n",
            "+-------+---------------------------------------------------------------------------+------------+------------------+---------+\n",
            "|12     |Usual Suspects, The (1995)                                                 |267         |4.385767790262173 |874777491|\n",
            "|50     |Star Wars (1977)                                                           |583         |4.3584905660377355|874729750|\n",
            "|64     |Shawshank Redemption, The (1994)                                           |283         |4.445229681978798 |874777701|\n",
            "|98     |Silence of the Lambs, The (1991)                                           |390         |4.28974358974359  |874786016|\n",
            "|127    |Godfather, The (1972)                                                      |413         |4.283292978208232 |874781076|\n",
            "|134    |Citizen Kane (1941)                                                        |198         |4.292929292929293 |874777623|\n",
            "|169    |Wrong Trousers, The (1993)                                                 |118         |4.466101694915254 |874777890|\n",
            "|172    |Empire Strikes Back, The (1980)                                            |367         |4.204359673024523 |874729901|\n",
            "|174    |Raiders of the Lost Ark (1981)                                             |420         |4.252380952380952 |874729995|\n",
            "|178    |12 Angry Men (1957)                                                        |125         |4.344             |874831383|\n",
            "|272    |Good Will Hunting (1997)                                                   |198         |4.262626262626263 |882955387|\n",
            "|285    |Secrets & Lies (1996)                                                      |162         |4.265432098765432 |874833746|\n",
            "|313    |Titanic (1997)                                                             |350         |4.2457142857142856|882693234|\n",
            "|318    |Schindler's List (1993)                                                    |298         |4.466442953020135 |874777948|\n",
            "|357    |One Flew Over the Cuckoo's Nest (1975)                                     |264         |4.291666666666667 |874725485|\n",
            "|408    |Close Shave, A (1995)                                                      |112         |4.491071428571429 |874784538|\n",
            "|427    |To Kill a Mockingbird (1962)                                               |219         |4.292237442922374 |874789279|\n",
            "|474    |Dr. Strangelove or: How I Learned to Stop Worrying and Love the Bomb (1963)|194         |4.252577319587629 |874777623|\n",
            "|479    |Vertigo (1958)                                                             |179         |4.251396648044692 |874785728|\n",
            "|480    |North by Northwest (1959)                                                  |179         |4.284916201117318 |875238923|\n",
            "+-------+---------------------------------------------------------------------------+------------+------------------+---------+\n",
            "only showing top 20 rows\n",
            "\n",
            "Top 25 Movies with the worst average rating:\n",
            "+-------+--------------------------------------+------------+------------------+---------+\n",
            "|movieID|title                                 |rating_count|avg_rating        |timestamp|\n",
            "+-------+--------------------------------------+------------+------------------+---------+\n",
            "|29     |Batman Forever (1995)                 |114         |2.6666666666666665|874796373|\n",
            "|38     |Net, The (1995)                       |120         |3.0083333333333333|874730553|\n",
            "|53     |Natural Born Killers (1994)           |128         |2.953125          |874778274|\n",
            "|122    |Cable Guy, The (1996)                 |106         |2.339622641509434 |874787150|\n",
            "|225    |101 Dalmatians (1996)                 |109         |2.908256880733945 |874786854|\n",
            "|231    |Batman Returns (1992)                 |142         |2.683098591549296 |874778424|\n",
            "|235    |Mars Attacks! (1996)                  |217         |2.847926267281106 |874774956|\n",
            "|240    |Beavis and Butt-head Do America (1996)|156         |2.7884615384615383|874786713|\n",
            "|243    |Jungle2Jungle (1997)                  |132         |2.4393939393939394|874951039|\n",
            "|252    |Lost World: Jurassic Park, The (1997) |158         |2.9430379746835444|874780832|\n",
            "|259    |George of the Jungle (1997)           |162         |2.685185185185185 |874827960|\n",
            "|260    |Event Horizon (1997)                  |127         |2.574803149606299 |874786439|\n",
            "|264    |Mimic (1997)                          |101         |2.742574257425743 |874828296|\n",
            "|289    |Evita (1996)                          |259         |2.9806949806949805|874815789|\n",
            "|323    |Dante's Peak (1997)                   |240         |2.933333333333333 |874774449|\n",
            "|325    |Crash (1996)                          |128         |2.546875          |874786419|\n",
            "|358    |Spawn (1997)                          |143         |2.6153846153846154|874786419|\n",
            "|411    |Nutty Professor, The (1996)           |163         |2.914110429447853 |874786807|\n",
            "|476    |First Wives Club, The (1996)          |160         |3.01875           |874792403|\n",
            "|546    |Broken Arrow (1996)                   |254         |3.031496062992126 |874775914|\n",
            "+-------+--------------------------------------+------------+------------------+---------+\n",
            "only showing top 20 rows\n",
            "\n"
          ]
        }
      ]
    }
  ]
}